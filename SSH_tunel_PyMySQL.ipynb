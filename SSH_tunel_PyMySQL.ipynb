{
 "cells": [
  {
   "cell_type": "code",
   "execution_count": 1,
   "metadata": {},
   "outputs": [],
   "source": [
    "from sshtunnel import SSHTunnelForwarder\n",
    "import pymysql\n",
    "import pandas as pd\n"
   ]
  },
  {
   "cell_type": "code",
   "execution_count": 3,
   "metadata": {},
   "outputs": [
    {
     "name": "stdout",
     "output_type": "stream",
     "text": [
      "****SSH Tunnel Established****\n"
     ]
    },
    {
     "ename": "AttributeError",
     "evalue": "'NoneType' object has no attribute 'local_bind_port'",
     "output_type": "error",
     "traceback": [
      "\u001b[0;31m---------------------------------------------------------------------------\u001b[0m",
      "\u001b[0;31mAttributeError\u001b[0m                            Traceback (most recent call last)",
      "\u001b[0;32m<ipython-input-3-b43df1d95c2d>\u001b[0m in \u001b[0;36m<module>\u001b[0;34m\u001b[0m\n\u001b[1;32m      8\u001b[0m     db = pymysql.connect(\n\u001b[1;32m      9\u001b[0m         \u001b[0mhost\u001b[0m\u001b[0;34m=\u001b[0m\u001b[0;34m'127.0.0.1'\u001b[0m\u001b[0;34m,\u001b[0m \u001b[0muser\u001b[0m\u001b[0;34m=\u001b[0m\u001b[0;34m\"root\"\u001b[0m\u001b[0;34m,\u001b[0m\u001b[0;34m\u001b[0m\u001b[0;34m\u001b[0m\u001b[0m\n\u001b[0;32m---> 10\u001b[0;31m         \u001b[0mpassword\u001b[0m\u001b[0;34m=\u001b[0m\u001b[0;34m\"68sP39Qn\"\u001b[0m\u001b[0;34m,\u001b[0m \u001b[0mport\u001b[0m\u001b[0;34m=\u001b[0m\u001b[0mtunnel\u001b[0m\u001b[0;34m.\u001b[0m\u001b[0mlocal_bind_port\u001b[0m\u001b[0;34m\u001b[0m\u001b[0;34m\u001b[0m\u001b[0m\n\u001b[0m\u001b[1;32m     11\u001b[0m     )\n\u001b[1;32m     12\u001b[0m     \u001b[0;31m# Run sample query in the database to validate connection\u001b[0m\u001b[0;34m\u001b[0m\u001b[0;34m\u001b[0m\u001b[0;34m\u001b[0m\u001b[0m\n",
      "\u001b[0;31mAttributeError\u001b[0m: 'NoneType' object has no attribute 'local_bind_port'"
     ]
    }
   ],
   "source": [
    "with SSHTunnelForwarder(('52.58.72.222',22), \n",
    "                         ssh_username=\"ec2-user\",\n",
    "                         ssh_pkey='/home/oleh/.ssh/id_rsa',\n",
    "                         remote_bind_address=('solring-pcs-datawarehouse-2020-11-20.cluster-cakfueupwjvh.eu-central-1.rds.amazonaws.com',3306)\n",
    "                        ) as tunnel:\n",
    "    print(\"****SSH Tunnel Established****\")\n",
    "    \n",
    "    db = pymysql.connect(\n",
    "        host='127.0.0.1', user=\"root\",\n",
    "        password=\"68sP39Qn\", port=tunnel.local_bind_port\n",
    "    )\n",
    "    # Run sample query in the database to validate connection\n",
    "    try:\n",
    "        df = pd.read_sql('SELECT fare_family, seat_service, count(seat_service)\\\n",
    "                              FROM pcs_data_warehouse.pcs_fact_flight_segments t\\\n",
    "                              group by  seat_service, fare_family', db)\n",
    "    finally:\n",
    "        db.close()\n",
    "print(df.shape)\n",
    " \n",
    "print(\"YAYY!!\")"
   ]
  },
  {
   "cell_type": "code",
   "execution_count": 30,
   "metadata": {},
   "outputs": [
    {
     "data": {
      "text/html": [
       "<div>\n",
       "<style scoped>\n",
       "    .dataframe tbody tr th:only-of-type {\n",
       "        vertical-align: middle;\n",
       "    }\n",
       "\n",
       "    .dataframe tbody tr th {\n",
       "        vertical-align: top;\n",
       "    }\n",
       "\n",
       "    .dataframe thead th {\n",
       "        text-align: right;\n",
       "    }\n",
       "</style>\n",
       "<table border=\"1\" class=\"dataframe\">\n",
       "  <thead>\n",
       "    <tr style=\"text-align: right;\">\n",
       "      <th></th>\n",
       "      <th>fare_family</th>\n",
       "      <th>seat_service</th>\n",
       "      <th>count(seat_service)</th>\n",
       "    </tr>\n",
       "  </thead>\n",
       "  <tbody>\n",
       "    <tr>\n",
       "      <th>0</th>\n",
       "      <td>None</td>\n",
       "      <td>empty</td>\n",
       "      <td>7325383</td>\n",
       "    </tr>\n",
       "    <tr>\n",
       "      <th>1</th>\n",
       "      <td>00</td>\n",
       "      <td>empty</td>\n",
       "      <td>1</td>\n",
       "    </tr>\n",
       "    <tr>\n",
       "      <th>2</th>\n",
       "      <td>1S</td>\n",
       "      <td>empty</td>\n",
       "      <td>4</td>\n",
       "    </tr>\n",
       "    <tr>\n",
       "      <th>3</th>\n",
       "      <td>2S</td>\n",
       "      <td>empty</td>\n",
       "      <td>6</td>\n",
       "    </tr>\n",
       "    <tr>\n",
       "      <th>4</th>\n",
       "      <td>EE</td>\n",
       "      <td>empty</td>\n",
       "      <td>211715</td>\n",
       "    </tr>\n",
       "  </tbody>\n",
       "</table>\n",
       "</div>"
      ],
      "text/plain": [
       "  fare_family seat_service  count(seat_service)\n",
       "0        None        empty              7325383\n",
       "1          00        empty                    1\n",
       "2          1S        empty                    4\n",
       "3          2S        empty                    6\n",
       "4          EE        empty               211715"
      ]
     },
     "execution_count": 30,
     "metadata": {},
     "output_type": "execute_result"
    }
   ],
   "source": [
    "df.head()"
   ]
  },
  {
   "cell_type": "code",
   "execution_count": 6,
   "metadata": {},
   "outputs": [],
   "source": [
    "!pip freeze > /home/oleh/Solring/requirements36.txt"
   ]
  },
  {
   "cell_type": "code",
   "execution_count": 31,
   "metadata": {},
   "outputs": [
    {
     "data": {
      "text/plain": [
       "array(['empty', 'included', 'purchased', 'unknown'], dtype=object)"
      ]
     },
     "execution_count": 31,
     "metadata": {},
     "output_type": "execute_result"
    }
   ],
   "source": [
    "df['seat_service'].unique()"
   ]
  },
  {
   "cell_type": "code",
   "execution_count": 36,
   "metadata": {},
   "outputs": [],
   "source": [
    "fare_family = df[df['seat_service']=='purchased'].groupby(by='fare_family')['count(seat_service)'].sum()#/\n",
    "# float(df[df['seat_service']=='purchased']['count(seat_service)'].sum()))\n",
    "fare_family = fare_family/float(fare_family.sum())"
   ]
  },
  {
   "cell_type": "code",
   "execution_count": 38,
   "metadata": {},
   "outputs": [
    {
     "data": {
      "text/plain": [
       "fare_family\n",
       "27    0.000003\n",
       "BB    0.021619\n",
       "BE    0.000003\n",
       "BS    0.051635\n",
       "CE    0.000008\n",
       "CI    0.000186\n",
       "CS    0.012125\n",
       "DD    0.000011\n",
       "DO    0.000013\n",
       "EE    0.090553\n",
       "FF    0.003321\n",
       "FU    0.000005\n",
       "KB    0.000013\n",
       "KZ    0.000008\n",
       "LL    0.319042\n",
       "NT    0.000016\n",
       "OW    0.000003\n",
       "PO    0.000013\n",
       "PP    0.160271\n",
       "PT    0.000005\n",
       "RE    0.000013\n",
       "RK    0.000008\n",
       "RO    0.000144\n",
       "SF    0.000008\n",
       "SS    0.340504\n",
       "SU    0.000391\n",
       "TA    0.000016\n",
       "TN    0.000005\n",
       "TP    0.000003\n",
       "WA    0.000003\n",
       "YU    0.000051\n",
       "Name: count(seat_service), dtype: float64"
      ]
     },
     "execution_count": 38,
     "metadata": {},
     "output_type": "execute_result"
    }
   ],
   "source": [
    "#Check\n",
    "fare_family"
   ]
  },
  {
   "cell_type": "code",
   "execution_count": 10,
   "metadata": {},
   "outputs": [
    {
     "name": "stdout",
     "output_type": "stream",
     "text": [
      "****SSH Tunnel Established****\n",
      "(16792, 28)\n",
      "YAYY!!\n"
     ]
    }
   ],
   "source": [
    "with SSHTunnelForwarder(('52.58.72.222',22), \n",
    "                         ssh_username=\"ec2-user\",\n",
    "                         ssh_pkey='/home/oleh/.ssh/id_rsa',\n",
    "                        \n",
    "                         remote_bind_address=('uia-checkin-prod-2020-11-20.cakfueupwjvh.eu-central-1.rds.amazonaws.com',3306)\n",
    "                        ) as tunnel:\n",
    "    print(\"****SSH Tunnel Established****\")\n",
    "    \n",
    "    db = pymysql.connect(\n",
    "        host='127.0.0.1', user=\"root\",\n",
    "        password=\"68sP39Qn\", port=tunnel.local_bind_port\n",
    "    )\n",
    "    # Run sample query in the database to validate connection\n",
    "    try:\n",
    "        df = pd.read_sql('SELECT * FROM archive.xd2vf_anc_sales_Oct2019', db)\n",
    "    finally:\n",
    "        db.close()\n",
    "print(df.shape)\n",
    " \n",
    "print(\"YAYY!!\")"
   ]
  },
  {
   "cell_type": "code",
   "execution_count": 39,
   "metadata": {},
   "outputs": [
    {
     "name": "stdout",
     "output_type": "stream",
     "text": [
      "****SSH Tunnel Established****\n",
      "YAYY!!!\n"
     ]
    }
   ],
   "source": [
    "tabs = []\n",
    "\n",
    "with SSHTunnelForwarder(('52.58.72.222',22), \n",
    "                         ssh_username=\"ec2-user\",\n",
    "                         ssh_pkey='/home/oleh/.ssh/id_rsa',\n",
    "                        \n",
    "                         remote_bind_address=('uia-checkin-prod-2020-11-20.cakfueupwjvh.eu-central-1.rds.amazonaws.com',3306)\n",
    "                        ) as tunnel:\n",
    "    print(\"****SSH Tunnel Established****\")\n",
    "    \n",
    "    db = pymysql.connect(\n",
    "        host='127.0.0.1', user=\"root\",\n",
    "        password=\"68sP39Qn\", port=tunnel.local_bind_port\n",
    "    )\n",
    "    # Run sample query in the database to validate connection\n",
    "    try:\n",
    "        # Print all the databases\n",
    "        with db.cursor() as cur:\n",
    "            cur.execute('SELECT table_name FROM information_schema.tables where table_name like \"%sales_%\"')\n",
    "            for r in cur:\n",
    "                #print(r)\n",
    "                if not 'dcs' in r[0]:\n",
    "                    tabs.append(r[0])\n",
    "    finally:\n",
    "        db.close()\n",
    "        \n",
    "print('YAYY!!!')"
   ]
  },
  {
   "cell_type": "code",
   "execution_count": 40,
   "metadata": {},
   "outputs": [
    {
     "data": {
      "text/plain": [
       "['xd2vf_anc_sales_Apr2019',\n",
       " 'xd2vf_anc_sales_Aug2019',\n",
       " 'xd2vf_anc_sales_Aug2020',\n",
       " 'xd2vf_anc_sales_Dec2019',\n",
       " 'xd2vf_anc_sales_Feb2019',\n",
       " 'xd2vf_anc_sales_Feb2020',\n",
       " 'xd2vf_anc_sales_Jan2019',\n",
       " 'xd2vf_anc_sales_Jan2020',\n",
       " 'xd2vf_anc_sales_Jul2019',\n",
       " 'xd2vf_anc_sales_Jul2020',\n",
       " 'xd2vf_anc_sales_Jun2019',\n",
       " 'xd2vf_anc_sales_Jun2020',\n",
       " 'xd2vf_anc_sales_Mar2019',\n",
       " 'xd2vf_anc_sales_Mar2020',\n",
       " 'xd2vf_anc_sales_May2019',\n",
       " 'xd2vf_anc_sales_Nov2019',\n",
       " 'xd2vf_anc_sales_Nov2020',\n",
       " 'xd2vf_anc_sales_Oct2019',\n",
       " 'xd2vf_anc_sales_Oct2020',\n",
       " 'xd2vf_anc_sales_Sep2019',\n",
       " 'xd2vf_anc_sales_Sep2020']"
      ]
     },
     "execution_count": 40,
     "metadata": {},
     "output_type": "execute_result"
    }
   ],
   "source": [
    "tabs"
   ]
  },
  {
   "cell_type": "code",
   "execution_count": 42,
   "metadata": {},
   "outputs": [
    {
     "name": "stdout",
     "output_type": "stream",
     "text": [
      "****SSH Tunnel Established****\n",
      "(225222, 28)\n",
      "YAYY!!\n"
     ]
    }
   ],
   "source": [
    "df = None\n",
    "with SSHTunnelForwarder(('52.58.72.222',22), \n",
    "                         ssh_username=\"ec2-user\",\n",
    "                         ssh_pkey='/home/oleh/.ssh/id_rsa',\n",
    "                        \n",
    "                         remote_bind_address=('uia-checkin-prod-2020-11-20.cakfueupwjvh.eu-central-1.rds.amazonaws.com',3306)\n",
    "                        ) as tunnel:\n",
    "    print(\"****SSH Tunnel Established****\")\n",
    "    \n",
    "    db = pymysql.connect(\n",
    "        host='127.0.0.1', user=\"root\",\n",
    "        password=\"68sP39Qn\", port=tunnel.local_bind_port\n",
    "    )\n",
    "    # Run sample query in the database to validate connection\n",
    "    try:\n",
    "        for sql_tab in tabs:\n",
    "            if df is None:\n",
    "                df = pd.read_sql('SELECT * FROM archive.'+ sql_tab, db)\n",
    "            else:\n",
    "                _df = pd.read_sql('SELECT * FROM archive.'+ sql_tab, db)\n",
    "                df = df.append(_df)\n",
    "            \n",
    "    finally:\n",
    "        db.close()\n",
    "print(df.shape)\n",
    " \n",
    "print(\"YAYY!!\")"
   ]
  },
  {
   "cell_type": "code",
   "execution_count": 43,
   "metadata": {},
   "outputs": [],
   "source": [
    "df.to_csv('Checking.csv')\n"
   ]
  },
  {
   "cell_type": "code",
   "execution_count": null,
   "metadata": {},
   "outputs": [],
   "source": []
  }
 ],
 "metadata": {
  "kernelspec": {
   "display_name": "Python 3",
   "language": "python",
   "name": "python3"
  },
  "language_info": {
   "codemirror_mode": {
    "name": "ipython",
    "version": 3
   },
   "file_extension": ".py",
   "mimetype": "text/x-python",
   "name": "python",
   "nbconvert_exporter": "python",
   "pygments_lexer": "ipython3",
   "version": "3.6.10"
  }
 },
 "nbformat": 4,
 "nbformat_minor": 2
}
