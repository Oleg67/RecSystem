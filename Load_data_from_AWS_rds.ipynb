{
 "cells": [
  {
   "cell_type": "code",
   "execution_count": 3,
   "metadata": {},
   "outputs": [],
   "source": [
    "import pymysql\n",
    "import pandas as pd"
   ]
  },
  {
   "cell_type": "code",
   "execution_count": 24,
   "metadata": {},
   "outputs": [
    {
     "name": "stdout",
     "output_type": "stream",
     "text": [
      "(1000, 90)\n",
      "YAYY!!\n",
      "CPU times: user 361 ms, sys: 12 ms, total: 373 ms\n",
      "Wall time: 451 ms\n"
     ]
    }
   ],
   "source": [
    "%%time\n",
    "db = pymysql.connect(\n",
    "        host = 'solring-pcs-datawarehouse-2020-11-20.cluster-cakfueupwjvh.eu-central-1.rds.amazonaws.com',\n",
    "        user=\"root\",\n",
    "        password=\"68sP39Qn\", \n",
    "        port=3306\n",
    "      \n",
    "    )\n",
    "# Run  query in the database to join tables \n",
    "try:\n",
    "    df = pd.read_sql('select  * \\\n",
    "         from pcs_data_warehouse.pcs_fact_flight_segments ffs \\\n",
    "         inner join pcs_data_warehouse.pcs_dim_bookings pdb on ffs.booking_id = pdb.id \\\n",
    "         inner join pcs_data_warehouse.pcs_dim_ancillaries_groups pag on ffs.ancillaries_group_id = pag.id \\\n",
    "         inner join pcs_data_warehouse.pcs_dim_flights pf on ffs.flight_id = pf.id \\\n",
    "         inner join pcs_data_warehouse.pcs_ancillaries pa on ffs.ancillaries_group_id = pa.ancillaries_group_id \\\n",
    "         inner join pcs_data_warehouse.pcs_dim_profiles pp on ffs.profile_id = pp.id limit 1000',\n",
    "         db)\n",
    "finally:\n",
    "    db.close()\n",
    "print(df.shape)\n",
    " \n",
    "print(\"YAYY!!\")"
   ]
  },
  {
   "cell_type": "code",
   "execution_count": 25,
   "metadata": {},
   "outputs": [],
   "source": [
    "df.to_csv('DataWearHouse.csv')"
   ]
  },
  {
   "cell_type": "code",
   "execution_count": 26,
   "metadata": {},
   "outputs": [
    {
     "data": {
      "text/plain": [
       "Index(['id', 'pnr', 'first_name', 'last_name', 'company', 'flight_number',\n",
       "       'departure_date', 'uci', 'DID', 'segment_number', 'cabin_class_code',\n",
       "       'cabin_class', 'fare_basis', 'tkne', 'rbd', 'status_code', 'status',\n",
       "       'meal_service', 'baggage_service', 'seat_service', 'company_id',\n",
       "       'agency_id', 'profile_id', 'booking_id', 'passenger_id', 'route_id',\n",
       "       'flight_id', 'airplane_id', 'contacts_group_id', 'ancillaries_group_id',\n",
       "       'origin_airport_id', 'destination_airport_id', 'fare_family', 'issued',\n",
       "       'ps_segment_number', 'id', 'pnr', 'creation_date', 'creation_time',\n",
       "       'total_flight_segments', 'total_adults', 'total_infants',\n",
       "       'total_children', 'route_type', 'group_pnr', 'expiration_time',\n",
       "       'original_contact_group_id', 'original_booking_id', 'creation_hour',\n",
       "       'total_passengers', 'id', 'pnr', 'expiration_time', 'seat_ssrs',\n",
       "       'baggage_ssrs', 'meal_ssrs', 'insurance_ssrs', 'general_ssrs',\n",
       "       'creation_time', 'modification_time', 'pnr_creation_date',\n",
       "       'passenger_index', 'segment_index', 'id', 'flight_number',\n",
       "       'departure_date', 'origin', 'destination', 'departure_time',\n",
       "       'arrival_time', 'utc_departure_time', 'departure_hour',\n",
       "       'flight_duration', 'id', 'ancillaries_group_id', 'request_level',\n",
       "       'ssr_id', 'ssr', 'amount', 'weight', 'unique_number', 'note', 'id',\n",
       "       'title', 'first_name', 'last_name', 'date_of_birth', 'nationality',\n",
       "       'passport_number', 'gender'],\n",
       "      dtype='object')"
      ]
     },
     "execution_count": 26,
     "metadata": {},
     "output_type": "execute_result"
    }
   ],
   "source": [
    "df.columns"
   ]
  },
  {
   "cell_type": "code",
   "execution_count": 22,
   "metadata": {},
   "outputs": [
    {
     "name": "stdout",
     "output_type": "stream",
     "text": [
      "YAYY!!!\n",
      "21\n",
      "CPU times: user 198 µs, sys: 3.89 ms, total: 4.08 ms\n",
      "Wall time: 19.7 ms\n"
     ]
    },
    {
     "data": {
      "text/plain": [
       "['xd2vf_anc_sales_Apr2019',\n",
       " 'xd2vf_anc_sales_Aug2019',\n",
       " 'xd2vf_anc_sales_Aug2020']"
      ]
     },
     "execution_count": 22,
     "metadata": {},
     "output_type": "execute_result"
    }
   ],
   "source": [
    "%%time\n",
    "db = pymysql.connect(\n",
    "        host = 'uia-checkin-prod-2020-11-20.cakfueupwjvh.eu-central-1.rds.amazonaws.com',\n",
    "        user=\"root\",\n",
    "        password=\"68sP39Qn\", \n",
    "        port=3306\n",
    "      \n",
    "    )\n",
    "# Run  query in the database to write table names\n",
    "tabs = []\n",
    "try:\n",
    "    # Print all the databases\n",
    "    with db.cursor() as cur:\n",
    "        cur.execute('SELECT table_name FROM information_schema.tables where table_name like \"%sales_%\"')\n",
    "        for r in cur:\n",
    "            #print(r)\n",
    "            if not 'dcs' in r[0]:\n",
    "                tabs.append(r[0])\n",
    "finally:\n",
    "    db.close()\n",
    "        \n",
    "print('YAYY!!!') \n",
    "print(len(tabs))\n",
    "tabs[:3]"
   ]
  },
  {
   "cell_type": "code",
   "execution_count": 18,
   "metadata": {},
   "outputs": [
    {
     "name": "stdout",
     "output_type": "stream",
     "text": [
      "(225222, 28)\n",
      "YAYY!!\n"
     ]
    }
   ],
   "source": [
    "%%time\n",
    "db = pymysql.connect(\n",
    "        host = 'uia-checkin-prod-2020-11-20.cakfueupwjvh.eu-central-1.rds.amazonaws.com',\n",
    "        user=\"root\",\n",
    "        password=\"68sP39Qn\", \n",
    "        port=3306\n",
    "      \n",
    "    )\n",
    "# Run  query in the database to union tables from the list\n",
    "df = None\n",
    "\n",
    "try:\n",
    "    for sql_tab in tabs:\n",
    "        if df is None:\n",
    "            df = pd.read_sql('SELECT * FROM archive.'+ sql_tab, db)\n",
    "        else:\n",
    "            _df = pd.read_sql('SELECT * FROM archive.'+ sql_tab, db)\n",
    "            df = df.append(_df)\n",
    "            \n",
    "finally:\n",
    "    db.close()\n",
    "print(df.shape)\n",
    " \n",
    "print(\"YAYY!!\")"
   ]
  },
  {
   "cell_type": "code",
   "execution_count": 19,
   "metadata": {},
   "outputs": [],
   "source": [
    "df.to_csv('Checkin.csv')"
   ]
  },
  {
   "cell_type": "code",
   "execution_count": 20,
   "metadata": {},
   "outputs": [
    {
     "data": {
      "text/plain": [
       "Index(['id', 'date', 'creation_timestamp', 'request_from', 'pnr', 'first_name',\n",
       "       'last_name', 'flight_number', 'flight_date', 'is_charter', 'tkne',\n",
       "       'customer_id', 'segment_id', 'ssr_type', 'ssr_sub_type', 'quantity',\n",
       "       'base_price', 'tax', 'total_price', 'currency', 'converted_price',\n",
       "       'emd_number', 'form_of_payment', 'gateway_type', 'order_id',\n",
       "       'psp_reference_number', 'receipt_url', 'status'],\n",
       "      dtype='object')"
      ]
     },
     "execution_count": 20,
     "metadata": {},
     "output_type": "execute_result"
    }
   ],
   "source": [
    "df.columns"
   ]
  },
  {
   "cell_type": "code",
   "execution_count": null,
   "metadata": {},
   "outputs": [],
   "source": []
  }
 ],
 "metadata": {
  "kernelspec": {
   "display_name": "Python 3",
   "language": "python",
   "name": "python3"
  },
  "language_info": {
   "codemirror_mode": {
    "name": "ipython",
    "version": 3
   },
   "file_extension": ".py",
   "mimetype": "text/x-python",
   "name": "python",
   "nbconvert_exporter": "python",
   "pygments_lexer": "ipython3",
   "version": "3.8.3"
  }
 },
 "nbformat": 4,
 "nbformat_minor": 4
}
